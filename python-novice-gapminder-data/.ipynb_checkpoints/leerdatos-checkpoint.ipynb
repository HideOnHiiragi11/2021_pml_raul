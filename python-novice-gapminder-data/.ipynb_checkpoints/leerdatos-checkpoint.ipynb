{
 "cells": [
  {
   "cell_type": "code",
   "execution_count": 1,
   "id": "d132719e-fb3e-4743-a7a7-c38957c80dc2",
   "metadata": {},
   "outputs": [],
   "source": [
    "import pandas as pd"
   ]
  },
  {
   "cell_type": "code",
   "execution_count": 2,
   "id": "6fa093f4-6328-49b1-a1bc-e0690f2a3332",
   "metadata": {},
   "outputs": [],
   "source": [
    "data = pd.read_csv('data/gapminder_gdp_oceania.csv')"
   ]
  },
  {
   "cell_type": "code",
   "execution_count": 3,
   "id": "e5315a6f-7650-4ad5-aea2-a1bb447d4f3a",
   "metadata": {},
   "outputs": [
    {
     "name": "stdout",
     "output_type": "stream",
     "text": [
      "       country  gdpPercap_1952  gdpPercap_1957  gdpPercap_1962  \\\n",
      "0    Australia     10039.59564     10949.64959     12217.22686   \n",
      "1  New Zealand     10556.57566     12247.39532     13175.67800   \n",
      "\n",
      "   gdpPercap_1967  gdpPercap_1972  gdpPercap_1977  gdpPercap_1982  \\\n",
      "0     14526.12465     16788.62948     18334.19751     19477.00928   \n",
      "1     14463.91893     16046.03728     16233.71770     17632.41040   \n",
      "\n",
      "   gdpPercap_1987  gdpPercap_1992  gdpPercap_1997  gdpPercap_2002  \\\n",
      "0     21888.88903     23424.76683     26997.93657     30687.75473   \n",
      "1     19007.19129     18363.32494     21050.41377     23189.80135   \n",
      "\n",
      "   gdpPercap_2007  \n",
      "0     34435.36744  \n",
      "1     25185.00911  \n"
     ]
    }
   ],
   "source": [
    "print(data)"
   ]
  },
  {
   "cell_type": "code",
   "execution_count": 4,
   "id": "da19e526-3e26-4d8e-b0b1-2ff2d3993d31",
   "metadata": {},
   "outputs": [
    {
     "name": "stdout",
     "output_type": "stream",
     "text": [
      "             gdpPercap_1952  gdpPercap_1957  gdpPercap_1962  gdpPercap_1967  \\\n",
      "country                                                                       \n",
      "Australia       10039.59564     10949.64959     12217.22686     14526.12465   \n",
      "New Zealand     10556.57566     12247.39532     13175.67800     14463.91893   \n",
      "\n",
      "             gdpPercap_1972  gdpPercap_1977  gdpPercap_1982  gdpPercap_1987  \\\n",
      "country                                                                       \n",
      "Australia       16788.62948     18334.19751     19477.00928     21888.88903   \n",
      "New Zealand     16046.03728     16233.71770     17632.41040     19007.19129   \n",
      "\n",
      "             gdpPercap_1992  gdpPercap_1997  gdpPercap_2002  gdpPercap_2007  \n",
      "country                                                                      \n",
      "Australia       23424.76683     26997.93657     30687.75473     34435.36744  \n",
      "New Zealand     18363.32494     21050.41377     23189.80135     25185.00911  \n"
     ]
    }
   ],
   "source": [
    "data = pd.read_csv('data/gapminder_gdp_oceania.csv', index_col='country')\n",
    "print(data)"
   ]
  },
  {
   "cell_type": "code",
   "execution_count": 5,
   "id": "c0aef8d4-1d5e-438d-ba14-d214d524b301",
   "metadata": {},
   "outputs": [
    {
     "name": "stdout",
     "output_type": "stream",
     "text": [
      "<class 'pandas.core.frame.DataFrame'>\n",
      "Index: 2 entries, Australia to New Zealand\n",
      "Data columns (total 12 columns):\n",
      " #   Column          Non-Null Count  Dtype  \n",
      "---  ------          --------------  -----  \n",
      " 0   gdpPercap_1952  2 non-null      float64\n",
      " 1   gdpPercap_1957  2 non-null      float64\n",
      " 2   gdpPercap_1962  2 non-null      float64\n",
      " 3   gdpPercap_1967  2 non-null      float64\n",
      " 4   gdpPercap_1972  2 non-null      float64\n",
      " 5   gdpPercap_1977  2 non-null      float64\n",
      " 6   gdpPercap_1982  2 non-null      float64\n",
      " 7   gdpPercap_1987  2 non-null      float64\n",
      " 8   gdpPercap_1992  2 non-null      float64\n",
      " 9   gdpPercap_1997  2 non-null      float64\n",
      " 10  gdpPercap_2002  2 non-null      float64\n",
      " 11  gdpPercap_2007  2 non-null      float64\n",
      "dtypes: float64(12)\n",
      "memory usage: 208.0+ bytes\n"
     ]
    }
   ],
   "source": [
    "data.info()"
   ]
  },
  {
   "cell_type": "code",
   "execution_count": 6,
   "id": "966cc931-4913-47fa-8708-8e6d3137fa9a",
   "metadata": {},
   "outputs": [
    {
     "name": "stdout",
     "output_type": "stream",
     "text": [
      "Index(['gdpPercap_1952', 'gdpPercap_1957', 'gdpPercap_1962', 'gdpPercap_1967',\n",
      "       'gdpPercap_1972', 'gdpPercap_1977', 'gdpPercap_1982', 'gdpPercap_1987',\n",
      "       'gdpPercap_1992', 'gdpPercap_1997', 'gdpPercap_2002', 'gdpPercap_2007'],\n",
      "      dtype='object')\n"
     ]
    }
   ],
   "source": [
    "print(data.columns)\n"
   ]
  },
  {
   "cell_type": "code",
   "execution_count": 7,
   "id": "50ece9f3-db35-44d9-8883-0ad8e05844c3",
   "metadata": {},
   "outputs": [
    {
     "name": "stdout",
     "output_type": "stream",
     "text": [
      "country           Australia  New Zealand\n",
      "gdpPercap_1952  10039.59564  10556.57566\n",
      "gdpPercap_1957  10949.64959  12247.39532\n",
      "gdpPercap_1962  12217.22686  13175.67800\n",
      "gdpPercap_1967  14526.12465  14463.91893\n",
      "gdpPercap_1972  16788.62948  16046.03728\n",
      "gdpPercap_1977  18334.19751  16233.71770\n",
      "gdpPercap_1982  19477.00928  17632.41040\n",
      "gdpPercap_1987  21888.88903  19007.19129\n",
      "gdpPercap_1992  23424.76683  18363.32494\n",
      "gdpPercap_1997  26997.93657  21050.41377\n",
      "gdpPercap_2002  30687.75473  23189.80135\n",
      "gdpPercap_2007  34435.36744  25185.00911\n"
     ]
    }
   ],
   "source": [
    "print(data.T)"
   ]
  },
  {
   "cell_type": "code",
   "execution_count": 8,
   "id": "8e1fd162-6bfc-4bcd-a3ad-425399d6d190",
   "metadata": {},
   "outputs": [
    {
     "name": "stdout",
     "output_type": "stream",
     "text": [
      "       gdpPercap_1952  gdpPercap_1957  gdpPercap_1962  gdpPercap_1967  \\\n",
      "count        2.000000        2.000000        2.000000        2.000000   \n",
      "mean     10298.085650    11598.522455    12696.452430    14495.021790   \n",
      "std        365.560078      917.644806      677.727301       43.986086   \n",
      "min      10039.595640    10949.649590    12217.226860    14463.918930   \n",
      "25%      10168.840645    11274.086022    12456.839645    14479.470360   \n",
      "50%      10298.085650    11598.522455    12696.452430    14495.021790   \n",
      "75%      10427.330655    11922.958888    12936.065215    14510.573220   \n",
      "max      10556.575660    12247.395320    13175.678000    14526.124650   \n",
      "\n",
      "       gdpPercap_1972  gdpPercap_1977  gdpPercap_1982  gdpPercap_1987  \\\n",
      "count         2.00000        2.000000        2.000000        2.000000   \n",
      "mean      16417.33338    17283.957605    18554.709840    20448.040160   \n",
      "std         525.09198     1485.263517     1304.328377     2037.668013   \n",
      "min       16046.03728    16233.717700    17632.410400    19007.191290   \n",
      "25%       16231.68533    16758.837652    18093.560120    19727.615725   \n",
      "50%       16417.33338    17283.957605    18554.709840    20448.040160   \n",
      "75%       16602.98143    17809.077558    19015.859560    21168.464595   \n",
      "max       16788.62948    18334.197510    19477.009280    21888.889030   \n",
      "\n",
      "       gdpPercap_1992  gdpPercap_1997  gdpPercap_2002  gdpPercap_2007  \n",
      "count        2.000000        2.000000        2.000000        2.000000  \n",
      "mean     20894.045885    24024.175170    26938.778040    29810.188275  \n",
      "std       3578.979883     4205.533703     5301.853680     6540.991104  \n",
      "min      18363.324940    21050.413770    23189.801350    25185.009110  \n",
      "25%      19628.685412    22537.294470    25064.289695    27497.598692  \n",
      "50%      20894.045885    24024.175170    26938.778040    29810.188275  \n",
      "75%      22159.406358    25511.055870    28813.266385    32122.777858  \n",
      "max      23424.766830    26997.936570    30687.754730    34435.367440  \n"
     ]
    }
   ],
   "source": [
    "print(data.describe())\n"
   ]
  },
  {
   "cell_type": "code",
   "execution_count": 9,
   "id": "7e1b5d14-4f62-4ad7-b8ab-4d04a7e3d7f9",
   "metadata": {},
   "outputs": [
    {
     "name": "stdout",
     "output_type": "stream",
     "text": [
      "1601.056136\n"
     ]
    }
   ],
   "source": [
    "data = pd.read_csv('data/gapminder_gdp_europe.csv', index_col='country')\n",
    "print(data.iloc[0, 0])"
   ]
  },
  {
   "cell_type": "code",
   "execution_count": 10,
   "id": "e0c06d07-5c7c-40be-bd54-b75b20526c74",
   "metadata": {},
   "outputs": [
    {
     "name": "stdout",
     "output_type": "stream",
     "text": [
      "1601.056136\n"
     ]
    }
   ],
   "source": [
    "print(data.loc[\"Albania\", \"gdpPercap_1952\"])"
   ]
  },
  {
   "cell_type": "code",
   "execution_count": 11,
   "id": "788e5c1c-3e4a-4f20-b4a1-cf1b3c8ee2be",
   "metadata": {},
   "outputs": [
    {
     "name": "stdout",
     "output_type": "stream",
     "text": [
      "gdpPercap_1952    1601.056136\n",
      "gdpPercap_1957    1942.284244\n",
      "gdpPercap_1962    2312.888958\n",
      "gdpPercap_1967    2760.196931\n",
      "gdpPercap_1972    3313.422188\n",
      "gdpPercap_1977    3533.003910\n",
      "gdpPercap_1982    3630.880722\n",
      "gdpPercap_1987    3738.932735\n",
      "gdpPercap_1992    2497.437901\n",
      "gdpPercap_1997    3193.054604\n",
      "gdpPercap_2002    4604.211737\n",
      "gdpPercap_2007    5937.029526\n",
      "Name: Albania, dtype: float64\n"
     ]
    }
   ],
   "source": [
    "print(data.loc[\"Albania\", :])"
   ]
  },
  {
   "cell_type": "code",
   "execution_count": 12,
   "id": "f0fb73ca-00fc-4e0f-a38f-05cae6533ba3",
   "metadata": {},
   "outputs": [
    {
     "name": "stdout",
     "output_type": "stream",
     "text": [
      "             gdpPercap_1962  gdpPercap_1967  gdpPercap_1972\n",
      "country                                                    \n",
      "Italy           8243.582340    10022.401310    12269.273780\n",
      "Montenegro      4649.593785     5907.850937     7778.414017\n",
      "Netherlands    12790.849560    15363.251360    18794.745670\n",
      "Norway         13450.401510    16361.876470    18965.055510\n",
      "Poland          5338.752143     6557.152776     8006.506993\n"
     ]
    }
   ],
   "source": [
    "print(data.loc['Italy':'Poland', 'gdpPercap_1962':'gdpPercap_1972'])"
   ]
  },
  {
   "cell_type": "code",
   "execution_count": 13,
   "id": "cdaa65f8-03c3-4ddd-83a4-ef5773c834c2",
   "metadata": {},
   "outputs": [],
   "source": [
    "df = pd.DataFrame({'Animal': ['Falcon', 'Falcon',\n",
    "\n",
    "                              'Parrot', 'Parrot'],\n",
    "\n",
    "                   'Max Speed': [380., 370., 24., 26.]})"
   ]
  },
  {
   "cell_type": "code",
   "execution_count": 14,
   "id": "411b6e4b-df2e-430e-b40b-1c9226c8acba",
   "metadata": {},
   "outputs": [
    {
     "data": {
      "text/html": [
       "<div>\n",
       "<style scoped>\n",
       "    .dataframe tbody tr th:only-of-type {\n",
       "        vertical-align: middle;\n",
       "    }\n",
       "\n",
       "    .dataframe tbody tr th {\n",
       "        vertical-align: top;\n",
       "    }\n",
       "\n",
       "    .dataframe thead th {\n",
       "        text-align: right;\n",
       "    }\n",
       "</style>\n",
       "<table border=\"1\" class=\"dataframe\">\n",
       "  <thead>\n",
       "    <tr style=\"text-align: right;\">\n",
       "      <th></th>\n",
       "      <th>Animal</th>\n",
       "      <th>Max Speed</th>\n",
       "    </tr>\n",
       "  </thead>\n",
       "  <tbody>\n",
       "    <tr>\n",
       "      <th>0</th>\n",
       "      <td>Falcon</td>\n",
       "      <td>380.0</td>\n",
       "    </tr>\n",
       "    <tr>\n",
       "      <th>1</th>\n",
       "      <td>Falcon</td>\n",
       "      <td>370.0</td>\n",
       "    </tr>\n",
       "    <tr>\n",
       "      <th>2</th>\n",
       "      <td>Parrot</td>\n",
       "      <td>24.0</td>\n",
       "    </tr>\n",
       "    <tr>\n",
       "      <th>3</th>\n",
       "      <td>Parrot</td>\n",
       "      <td>26.0</td>\n",
       "    </tr>\n",
       "  </tbody>\n",
       "</table>\n",
       "</div>"
      ],
      "text/plain": [
       "   Animal  Max Speed\n",
       "0  Falcon      380.0\n",
       "1  Falcon      370.0\n",
       "2  Parrot       24.0\n",
       "3  Parrot       26.0"
      ]
     },
     "execution_count": 14,
     "metadata": {},
     "output_type": "execute_result"
    }
   ],
   "source": [
    "df"
   ]
  },
  {
   "cell_type": "code",
   "execution_count": 15,
   "id": "f0c44fc3-0d5a-4635-8ca9-14877411de2c",
   "metadata": {},
   "outputs": [
    {
     "data": {
      "text/html": [
       "<div>\n",
       "<style scoped>\n",
       "    .dataframe tbody tr th:only-of-type {\n",
       "        vertical-align: middle;\n",
       "    }\n",
       "\n",
       "    .dataframe tbody tr th {\n",
       "        vertical-align: top;\n",
       "    }\n",
       "\n",
       "    .dataframe thead th {\n",
       "        text-align: right;\n",
       "    }\n",
       "</style>\n",
       "<table border=\"1\" class=\"dataframe\">\n",
       "  <thead>\n",
       "    <tr style=\"text-align: right;\">\n",
       "      <th></th>\n",
       "      <th>Max Speed</th>\n",
       "    </tr>\n",
       "    <tr>\n",
       "      <th>Animal</th>\n",
       "      <th></th>\n",
       "    </tr>\n",
       "  </thead>\n",
       "  <tbody>\n",
       "    <tr>\n",
       "      <th>Falcon</th>\n",
       "      <td>375.0</td>\n",
       "    </tr>\n",
       "    <tr>\n",
       "      <th>Parrot</th>\n",
       "      <td>25.0</td>\n",
       "    </tr>\n",
       "  </tbody>\n",
       "</table>\n",
       "</div>"
      ],
      "text/plain": [
       "        Max Speed\n",
       "Animal           \n",
       "Falcon      375.0\n",
       "Parrot       25.0"
      ]
     },
     "execution_count": 15,
     "metadata": {},
     "output_type": "execute_result"
    }
   ],
   "source": [
    "df.groupby(['Animal']).mean()"
   ]
  },
  {
   "cell_type": "code",
   "execution_count": 16,
   "id": "45e1fd13-cab9-4af5-813a-f69b2b258303",
   "metadata": {},
   "outputs": [
    {
     "data": {
      "text/html": [
       "<div>\n",
       "<style scoped>\n",
       "    .dataframe tbody tr th:only-of-type {\n",
       "        vertical-align: middle;\n",
       "    }\n",
       "\n",
       "    .dataframe tbody tr th {\n",
       "        vertical-align: top;\n",
       "    }\n",
       "\n",
       "    .dataframe thead th {\n",
       "        text-align: right;\n",
       "    }\n",
       "</style>\n",
       "<table border=\"1\" class=\"dataframe\">\n",
       "  <thead>\n",
       "    <tr style=\"text-align: right;\">\n",
       "      <th></th>\n",
       "      <th></th>\n",
       "      <th>Max Speed</th>\n",
       "    </tr>\n",
       "    <tr>\n",
       "      <th>Animal</th>\n",
       "      <th>Type</th>\n",
       "      <th></th>\n",
       "    </tr>\n",
       "  </thead>\n",
       "  <tbody>\n",
       "    <tr>\n",
       "      <th rowspan=\"2\" valign=\"top\">Falcon</th>\n",
       "      <th>Captive</th>\n",
       "      <td>390.0</td>\n",
       "    </tr>\n",
       "    <tr>\n",
       "      <th>Wild</th>\n",
       "      <td>350.0</td>\n",
       "    </tr>\n",
       "    <tr>\n",
       "      <th rowspan=\"2\" valign=\"top\">Parrot</th>\n",
       "      <th>Captive</th>\n",
       "      <td>30.0</td>\n",
       "    </tr>\n",
       "    <tr>\n",
       "      <th>Wild</th>\n",
       "      <td>20.0</td>\n",
       "    </tr>\n",
       "  </tbody>\n",
       "</table>\n",
       "</div>"
      ],
      "text/plain": [
       "                Max Speed\n",
       "Animal Type              \n",
       "Falcon Captive      390.0\n",
       "       Wild         350.0\n",
       "Parrot Captive       30.0\n",
       "       Wild          20.0"
      ]
     },
     "execution_count": 16,
     "metadata": {},
     "output_type": "execute_result"
    }
   ],
   "source": [
    "arrays = [['Falcon', 'Falcon', 'Parrot', 'Parrot'],\n",
    "\n",
    "          ['Captive', 'Wild', 'Captive', 'Wild']]\n",
    "\n",
    "index = pd.MultiIndex.from_arrays(arrays, names=('Animal', 'Type'))\n",
    "\n",
    "df = pd.DataFrame({'Max Speed': [390., 350., 30., 20.]},\n",
    "\n",
    "                  index=index)\n",
    "\n",
    "df"
   ]
  },
  {
   "cell_type": "code",
   "execution_count": 2,
   "id": "a7d26b71-da3c-4d31-8589-2bf87791683f",
   "metadata": {},
   "outputs": [],
   "source": [
    "import matplotlib.pyplot as plt"
   ]
  },
  {
   "cell_type": "code",
   "execution_count": 3,
   "id": "81ab144f-0c17-4a59-af9e-385a5c01123b",
   "metadata": {},
   "outputs": [
    {
     "data": {
      "text/plain": [
       "Text(0, 0.5, 'Position (km)')"
      ]
     },
     "execution_count": 3,
     "metadata": {},
     "output_type": "execute_result"
    },
    {
     "data": {
      "image/png": "[encoded data removed]",
      "text/plain": [
       "<Figure size 432x288 with 1 Axes>"
      ]
     },
     "metadata": {
      "needs_background": "light"
     },
     "output_type": "display_data"
    }
   ],
   "source": [
    "time = [0, 1, 2, 3]\n",
    "position = [0, 100, 200, 300]\n",
    "\n",
    "plt.plot(time, position)\n",
    "plt.xlabel('Time (hr)')\n",
    "plt.ylabel('Position (km)')"
   ]
  },
  {
   "cell_type": "code",
   "execution_count": 4,
   "id": "2285c831-09a0-4605-8d34-eb9ebe6c6a66",
   "metadata": {},
   "outputs": [
    {
     "data": {
      "text/plain": [
       "<AxesSubplot:>"
      ]
     },
     "execution_count": 4,
     "metadata": {},
     "output_type": "execute_result"
    },
    {
     "data": {
      "image/png": "[encoded data removed]",
      "text/plain": [
       "<Figure size 432x288 with 1 Axes>"
      ]
     },
     "metadata": {
      "needs_background": "light"
     },
     "output_type": "display_data"
    }
   ],
   "source": [
    "import pandas as pd\n",
    "\n",
    "data = pd.read_csv('data/gapminder_gdp_oceania.csv', index_col='country')\n",
    "\n",
    "# Extract year from last 4 characters of each column name\n",
    "# The current column names are structured as 'gdpPercap_(year)', \n",
    "# so we want to keep the (year) part only for clarity when plotting GDP vs. years\n",
    "# To do this we use strip(), which removes from the string the characters stated in the argument\n",
    "# This method works on strings, so we call str before strip()\n",
    "\n",
    "years = data.columns.str.strip('gdpPercap_')\n",
    "\n",
    "# Convert year values to integers, saving results back to dataframe\n",
    "\n",
    "data.columns = years.astype(int)\n",
    "\n",
    "data.loc['Australia'].plot()\n"
   ]
  },
  {
   "cell_type": "code",
   "execution_count": 5,
   "id": "e1c07224-8ce8-42aa-8695-fcd6bb3fd276",
   "metadata": {},
   "outputs": [
    {
     "data": {
      "text/plain": [
       "Text(0, 0.5, 'GDP per capita')"
      ]
     },
     "execution_count": 5,
     "metadata": {},
     "output_type": "execute_result"
    },
    {
     "data": {
      "image/png": "[encoded data removed]",
      "text/plain": [
       "<Figure size 432x288 with 1 Axes>"
      ]
     },
     "metadata": {
      "needs_background": "light"
     },
     "output_type": "display_data"
    }
   ],
   "source": [
    "data.T.plot()\n",
    "plt.ylabel('GDP per capita')"
   ]
  },
  {
   "cell_type": "code",
   "execution_count": 6,
   "id": "0b94c70e-be53-45f7-a50e-f11785863d5a",
   "metadata": {},
   "outputs": [
    {
     "data": {
      "text/plain": [
       "Text(0, 0.5, 'GDP per capita')"
      ]
     },
     "execution_count": 6,
     "metadata": {},
     "output_type": "execute_result"
    },
    {
     "data": {
      "image/png": "[encoded data removed]",
      "text/plain": [
       "<Figure size 432x288 with 1 Axes>"
      ]
     },
     "metadata": {},
     "output_type": "display_data"
    }
   ],
   "source": [
    "plt.style.use('ggplot')\n",
    "data.T.plot(kind='bar')\n",
    "plt.ylabel('GDP per capita')"
   ]
  },
  {
   "cell_type": "code",
   "execution_count": 7,
   "id": "134dcee5-6736-42da-a933-b932bcac0728",
   "metadata": {},
   "outputs": [
    {
     "data": {
      "text/plain": [
       "[<matplotlib.lines.Line2D at 0x14d97e3b220>]"
      ]
     },
     "execution_count": 7,
     "metadata": {},
     "output_type": "execute_result"
    },
    {
     "data": {
      "image/png": "[encoded data removed]",
      "text/plain": [
       "<Figure size 432x288 with 1 Axes>"
      ]
     },
     "metadata": {},
     "output_type": "display_data"
    }
   ],
   "source": [
    "years = data.columns\n",
    "gdp_australia = data.loc['Australia']\n",
    "\n",
    "plt.plot(years, gdp_australia, 'g--')"
   ]
  },
  {
   "cell_type": "markdown",
   "id": "8b5023b9-44ef-4d9c-8b78-97b7ef541beb",
   "metadata": {},
   "source": [
    "# Ahora vamos a hacer listas"
   ]
  },
  {
   "cell_type": "code",
   "execution_count": 8,
   "id": "28411820-f45c-42fe-8d86-c1503730dbec",
   "metadata": {},
   "outputs": [
    {
     "name": "stdout",
     "output_type": "stream",
     "text": [
      "pressures: [0.273, 0.275, 0.277, 0.275, 0.276]\n",
      "length: 5\n"
     ]
    }
   ],
   "source": [
    "pressures = [0.273, 0.275, 0.277, 0.275, 0.276]\n",
    "print('pressures:', pressures)\n",
    "print('length:', len(pressures))"
   ]
  },
  {
   "cell_type": "code",
   "execution_count": 9,
   "id": "67a0ab26-4cad-414c-9d28-df2d3039a672",
   "metadata": {},
   "outputs": [
    {
     "name": "stdout",
     "output_type": "stream",
     "text": [
      "zeroth item of pressures: 0.273\n",
      "fourth item of pressures: 0.276\n"
     ]
    }
   ],
   "source": [
    "print('zeroth item of pressures:', pressures[0])\n",
    "print('fourth item of pressures:', pressures[4])"
   ]
  },
  {
   "cell_type": "code",
   "execution_count": 10,
   "id": "2f83cfbf-5f39-485d-939d-b62276801493",
   "metadata": {},
   "outputs": [
    {
     "name": "stdout",
     "output_type": "stream",
     "text": [
      "pressures is now: [0.265, 0.275, 0.277, 0.275, 0.276]\n"
     ]
    }
   ],
   "source": [
    "pressures[0] = 0.265\n",
    "print('pressures is now:', pressures)"
   ]
  },
  {
   "cell_type": "code",
   "execution_count": 11,
   "id": "d92cb7c0-ad3e-484c-b304-6495a6978942",
   "metadata": {},
   "outputs": [
    {
     "name": "stdout",
     "output_type": "stream",
     "text": [
      "primes is initially: [2, 3, 5]\n",
      "primes has become: [2, 3, 5, 7]\n"
     ]
    }
   ],
   "source": [
    "primes = [2, 3, 5]\n",
    "print('primes is initially:', primes)\n",
    "primes.append(7)\n",
    "print('primes has become:', primes)"
   ]
  },
  {
   "cell_type": "code",
   "execution_count": 12,
   "id": "b4169091-01e4-45cb-b4b6-8ec4110c0058",
   "metadata": {},
   "outputs": [
    {
     "name": "stdout",
     "output_type": "stream",
     "text": [
      "primes is currently: [2, 3, 5, 7]\n",
      "primes has now become: [2, 3, 5, 7, 11, 13, 17, 19]\n",
      "primes has finally become: [2, 3, 5, 7, 11, 13, 17, 19, [37, 41, 43, 47]]\n"
     ]
    }
   ],
   "source": [
    "teen_primes = [11, 13, 17, 19]\n",
    "middle_aged_primes = [37, 41, 43, 47]\n",
    "print('primes is currently:', primes)\n",
    "primes.extend(teen_primes)\n",
    "print('primes has now become:', primes)\n",
    "primes.append(middle_aged_primes)\n",
    "print('primes has finally become:', primes)"
   ]
  },
  {
   "cell_type": "code",
   "execution_count": 13,
   "id": "d7844d82-9067-466c-bd7e-3af79dff8a02",
   "metadata": {},
   "outputs": [
    {
     "name": "stdout",
     "output_type": "stream",
     "text": [
      "primes before removing last item: [2, 3, 5, 7, 9]\n",
      "primes after removing last item: [2, 3, 5, 7]\n"
     ]
    }
   ],
   "source": [
    "primes = [2, 3, 5, 7, 9]\n",
    "print('primes before removing last item:', primes)\n",
    "del primes[4]\n",
    "print('primes after removing last item:', primes)"
   ]
  },
  {
   "cell_type": "code",
   "execution_count": 14,
   "id": "20495ea9-e3ea-46d2-a383-b509949e40b7",
   "metadata": {},
   "outputs": [],
   "source": [
    "goals = [1, 'Create lists.', 2, 'Extract items from lists.', 3, 'Modify lists.']"
   ]
  },
  {
   "cell_type": "code",
   "execution_count": 15,
   "id": "23559558-b554-4ef9-8d47-c618d6d42b07",
   "metadata": {},
   "outputs": [
    {
     "name": "stdout",
     "output_type": "stream",
     "text": [
      "zeroth character: c\n",
      "third character: b\n"
     ]
    }
   ],
   "source": [
    "element = 'carbon'\n",
    "print('zeroth character:', element[0])\n",
    "print('third character:', element[3])"
   ]
  },
  {
   "cell_type": "code",
   "execution_count": 16,
   "id": "6945e53d-637c-48bd-9b4e-7ec955644c37",
   "metadata": {},
   "outputs": [
    {
     "name": "stdout",
     "output_type": "stream",
     "text": [
      "2\n",
      "3\n",
      "5\n"
     ]
    }
   ],
   "source": [
    "for number in [2, 3, 5]:\n",
    "    print(number)"
   ]
  },
  {
   "cell_type": "code",
   "execution_count": 17,
   "id": "0d56fc3b-23c3-48ca-bf22-de7f383dfd98",
   "metadata": {},
   "outputs": [
    {
     "name": "stdout",
     "output_type": "stream",
     "text": [
      "2 4 8\n",
      "3 9 27\n",
      "5 25 125\n"
     ]
    }
   ],
   "source": [
    "primes = [2, 3, 5]\n",
    "for p in primes:\n",
    "    squared = p ** 2\n",
    "    cubed = p ** 3\n",
    "    print(p, squared, cubed)"
   ]
  },
  {
   "cell_type": "code",
   "execution_count": 20,
   "id": "f0c37dcd-761b-439a-9edf-8ae946e40abd",
   "metadata": {},
   "outputs": [
    {
     "name": "stdout",
     "output_type": "stream",
     "text": [
      "a range is not a list: range(0, 3)\n",
      "2\n",
      "3\n",
      "4\n"
     ]
    }
   ],
   "source": [
    "print('a range is not a list: range(0, 3)')\n",
    "for number in range(2, 5):\n",
    "    print(number)"
   ]
  },
  {
   "cell_type": "code",
   "execution_count": 21,
   "id": "67f31de8-12b8-4f1c-985f-3002d070758f",
   "metadata": {},
   "outputs": [
    {
     "name": "stdout",
     "output_type": "stream",
     "text": [
      "55\n"
     ]
    }
   ],
   "source": [
    "# Sum the first 10 integers.\n",
    "total = 0\n",
    "for number in range(10):\n",
    "   total = total + (number + 1)\n",
    "print(total)"
   ]
  },
  {
   "cell_type": "code",
   "execution_count": 22,
   "id": "a7c946d1-26fe-4ef2-82e4-1ada8a2b631a",
   "metadata": {},
   "outputs": [
    {
     "name": "stdout",
     "output_type": "stream",
     "text": [
      "3.54 is large\n",
      "9.22 is large\n"
     ]
    }
   ],
   "source": [
    "masses = [3.54, 2.07, 9.22, 1.86, 1.71]\n",
    "for m in masses:\n",
    "    if m > 3.0:\n",
    "        print(m, 'is large')"
   ]
  },
  {
   "cell_type": "code",
   "execution_count": 23,
   "id": "2d01f862-b242-4cfb-9df4-83fbcceafaf2",
   "metadata": {},
   "outputs": [
    {
     "name": "stdout",
     "output_type": "stream",
     "text": [
      "3.54 is large\n",
      "2.07 is small\n",
      "9.22 is large\n",
      "1.86 is small\n",
      "1.71 is small\n"
     ]
    }
   ],
   "source": [
    "masses = [3.54, 2.07, 9.22, 1.86, 1.71]\n",
    "for m in masses:\n",
    "    if m > 3.0:\n",
    "        print(m, 'is large')\n",
    "    else:\n",
    "        print(m, 'is small')"
   ]
  },
  {
   "cell_type": "code",
   "execution_count": 25,
   "id": "159bacf3-34ce-4378-89d2-5089667dfba7",
   "metadata": {},
   "outputs": [
    {
     "name": "stdout",
     "output_type": "stream",
     "text": [
      "3.54 is large\n",
      "2.07 is small\n",
      "9.22 is HUGE\n",
      "1.86 is small\n",
      "1.71 is small\n"
     ]
    }
   ],
   "source": [
    "masses = [3.54, 2.07, 9.22, 1.86, 1.71]\n",
    "for m in masses:\n",
    "    if m > 9.0:\n",
    "        print(m, 'is HUGE')\n",
    "    elif m > 3.0:\n",
    "        print(m, 'is large')\n",
    "    else:\n",
    "        print(m, 'is small')"
   ]
  },
  {
   "cell_type": "code",
   "execution_count": 26,
   "id": "2a112f20-4dea-4552-b60e-0fcf493eb896",
   "metadata": {},
   "outputs": [
    {
     "name": "stdout",
     "output_type": "stream",
     "text": [
      "data/gapminder_gdp_africa.csv gdpPercap_1952    298.846212\n",
      "gdpPercap_1957    335.997115\n",
      "gdpPercap_1962    355.203227\n",
      "gdpPercap_1967    412.977514\n",
      "gdpPercap_1972    464.099504\n",
      "gdpPercap_1977    502.319733\n",
      "gdpPercap_1982    462.211415\n",
      "gdpPercap_1987    389.876185\n",
      "gdpPercap_1992    410.896824\n",
      "gdpPercap_1997    312.188423\n",
      "gdpPercap_2002    241.165876\n",
      "gdpPercap_2007    277.551859\n",
      "dtype: float64\n",
      "data/gapminder_gdp_asia.csv gdpPercap_1952    331.0\n",
      "gdpPercap_1957    350.0\n",
      "gdpPercap_1962    388.0\n",
      "gdpPercap_1967    349.0\n",
      "gdpPercap_1972    357.0\n",
      "gdpPercap_1977    371.0\n",
      "gdpPercap_1982    424.0\n",
      "gdpPercap_1987    385.0\n",
      "gdpPercap_1992    347.0\n",
      "gdpPercap_1997    415.0\n",
      "gdpPercap_2002    611.0\n",
      "gdpPercap_2007    944.0\n",
      "dtype: float64\n"
     ]
    }
   ],
   "source": [
    "import pandas as pd\n",
    "for filename in ['data/gapminder_gdp_africa.csv', 'data/gapminder_gdp_asia.csv']:\n",
    "    data = pd.read_csv(filename, index_col='country')\n",
    "    print(filename, data.min())"
   ]
  },
  {
   "cell_type": "code",
   "execution_count": 27,
   "id": "e11293a6-fd1a-4a43-8654-213978ed0dcc",
   "metadata": {},
   "outputs": [
    {
     "data": {
      "text/html": [
       "<div>\n",
       "<style scoped>\n",
       "    .dataframe tbody tr th:only-of-type {\n",
       "        vertical-align: middle;\n",
       "    }\n",
       "\n",
       "    .dataframe tbody tr th {\n",
       "        vertical-align: top;\n",
       "    }\n",
       "\n",
       "    .dataframe thead th {\n",
       "        text-align: right;\n",
       "    }\n",
       "</style>\n",
       "<table border=\"1\" class=\"dataframe\">\n",
       "  <thead>\n",
       "    <tr style=\"text-align: right;\">\n",
       "      <th></th>\n",
       "      <th>gdpPercap_1952</th>\n",
       "      <th>gdpPercap_1957</th>\n",
       "      <th>gdpPercap_1962</th>\n",
       "      <th>gdpPercap_1967</th>\n",
       "      <th>gdpPercap_1972</th>\n",
       "      <th>gdpPercap_1977</th>\n",
       "      <th>gdpPercap_1982</th>\n",
       "      <th>gdpPercap_1987</th>\n",
       "      <th>gdpPercap_1992</th>\n",
       "      <th>gdpPercap_1997</th>\n",
       "      <th>gdpPercap_2002</th>\n",
       "      <th>gdpPercap_2007</th>\n",
       "    </tr>\n",
       "    <tr>\n",
       "      <th>country</th>\n",
       "      <th></th>\n",
       "      <th></th>\n",
       "      <th></th>\n",
       "      <th></th>\n",
       "      <th></th>\n",
       "      <th></th>\n",
       "      <th></th>\n",
       "      <th></th>\n",
       "      <th></th>\n",
       "      <th></th>\n",
       "      <th></th>\n",
       "      <th></th>\n",
       "    </tr>\n",
       "  </thead>\n",
       "  <tbody>\n",
       "    <tr>\n",
       "      <th>Afghanistan</th>\n",
       "      <td>779.445314</td>\n",
       "      <td>820.853030</td>\n",
       "      <td>853.100710</td>\n",
       "      <td>836.197138</td>\n",
       "      <td>739.981106</td>\n",
       "      <td>786.113360</td>\n",
       "      <td>978.011439</td>\n",
       "      <td>852.395945</td>\n",
       "      <td>649.341395</td>\n",
       "      <td>635.341351</td>\n",
       "      <td>726.734055</td>\n",
       "      <td>974.580338</td>\n",
       "    </tr>\n",
       "    <tr>\n",
       "      <th>Bahrain</th>\n",
       "      <td>9867.084765</td>\n",
       "      <td>11635.799450</td>\n",
       "      <td>12753.275140</td>\n",
       "      <td>14804.672700</td>\n",
       "      <td>18268.658390</td>\n",
       "      <td>19340.101960</td>\n",
       "      <td>19211.147310</td>\n",
       "      <td>18524.024060</td>\n",
       "      <td>19035.579170</td>\n",
       "      <td>20292.016790</td>\n",
       "      <td>23403.559270</td>\n",
       "      <td>29796.048340</td>\n",
       "    </tr>\n",
       "    <tr>\n",
       "      <th>Bangladesh</th>\n",
       "      <td>684.244172</td>\n",
       "      <td>661.637458</td>\n",
       "      <td>686.341554</td>\n",
       "      <td>721.186086</td>\n",
       "      <td>630.233627</td>\n",
       "      <td>659.877232</td>\n",
       "      <td>676.981866</td>\n",
       "      <td>751.979403</td>\n",
       "      <td>837.810164</td>\n",
       "      <td>972.770035</td>\n",
       "      <td>1136.390430</td>\n",
       "      <td>1391.253792</td>\n",
       "    </tr>\n",
       "    <tr>\n",
       "      <th>Cambodia</th>\n",
       "      <td>368.469286</td>\n",
       "      <td>434.038336</td>\n",
       "      <td>496.913648</td>\n",
       "      <td>523.432314</td>\n",
       "      <td>421.624026</td>\n",
       "      <td>524.972183</td>\n",
       "      <td>624.475478</td>\n",
       "      <td>683.895573</td>\n",
       "      <td>682.303175</td>\n",
       "      <td>734.285170</td>\n",
       "      <td>896.226015</td>\n",
       "      <td>1713.778686</td>\n",
       "    </tr>\n",
       "    <tr>\n",
       "      <th>China</th>\n",
       "      <td>400.448611</td>\n",
       "      <td>575.987001</td>\n",
       "      <td>487.674018</td>\n",
       "      <td>612.705693</td>\n",
       "      <td>676.900092</td>\n",
       "      <td>741.237470</td>\n",
       "      <td>962.421381</td>\n",
       "      <td>1378.904018</td>\n",
       "      <td>1655.784158</td>\n",
       "      <td>2289.234136</td>\n",
       "      <td>3119.280896</td>\n",
       "      <td>4959.114854</td>\n",
       "    </tr>\n",
       "    <tr>\n",
       "      <th>Hong Kong China</th>\n",
       "      <td>3054.421209</td>\n",
       "      <td>3629.076457</td>\n",
       "      <td>4692.648272</td>\n",
       "      <td>6197.962814</td>\n",
       "      <td>8315.928145</td>\n",
       "      <td>11186.141250</td>\n",
       "      <td>14560.530510</td>\n",
       "      <td>20038.472690</td>\n",
       "      <td>24757.603010</td>\n",
       "      <td>28377.632190</td>\n",
       "      <td>30209.015160</td>\n",
       "      <td>39724.978670</td>\n",
       "    </tr>\n",
       "    <tr>\n",
       "      <th>India</th>\n",
       "      <td>546.565749</td>\n",
       "      <td>590.061996</td>\n",
       "      <td>658.347151</td>\n",
       "      <td>700.770611</td>\n",
       "      <td>724.032527</td>\n",
       "      <td>813.337323</td>\n",
       "      <td>855.723538</td>\n",
       "      <td>976.512676</td>\n",
       "      <td>1164.406809</td>\n",
       "      <td>1458.817442</td>\n",
       "      <td>1746.769454</td>\n",
       "      <td>2452.210407</td>\n",
       "    </tr>\n",
       "    <tr>\n",
       "      <th>Indonesia</th>\n",
       "      <td>749.681655</td>\n",
       "      <td>858.900271</td>\n",
       "      <td>849.289770</td>\n",
       "      <td>762.431772</td>\n",
       "      <td>1111.107907</td>\n",
       "      <td>1382.702056</td>\n",
       "      <td>1516.872988</td>\n",
       "      <td>1748.356961</td>\n",
       "      <td>2383.140898</td>\n",
       "      <td>3119.335603</td>\n",
       "      <td>2873.912870</td>\n",
       "      <td>3540.651564</td>\n",
       "    </tr>\n",
       "    <tr>\n",
       "      <th>Iran</th>\n",
       "      <td>3035.326002</td>\n",
       "      <td>3290.257643</td>\n",
       "      <td>4187.329802</td>\n",
       "      <td>5906.731805</td>\n",
       "      <td>9613.818607</td>\n",
       "      <td>11888.595080</td>\n",
       "      <td>7608.334602</td>\n",
       "      <td>6642.881371</td>\n",
       "      <td>7235.653188</td>\n",
       "      <td>8263.590301</td>\n",
       "      <td>9240.761975</td>\n",
       "      <td>11605.714490</td>\n",
       "    </tr>\n",
       "    <tr>\n",
       "      <th>Iraq</th>\n",
       "      <td>4129.766056</td>\n",
       "      <td>6229.333562</td>\n",
       "      <td>8341.737815</td>\n",
       "      <td>8931.459811</td>\n",
       "      <td>9576.037596</td>\n",
       "      <td>14688.235070</td>\n",
       "      <td>14517.907110</td>\n",
       "      <td>11643.572680</td>\n",
       "      <td>3745.640687</td>\n",
       "      <td>3076.239795</td>\n",
       "      <td>4390.717312</td>\n",
       "      <td>4471.061906</td>\n",
       "    </tr>\n",
       "    <tr>\n",
       "      <th>Israel</th>\n",
       "      <td>4086.522128</td>\n",
       "      <td>5385.278451</td>\n",
       "      <td>7105.630706</td>\n",
       "      <td>8393.741404</td>\n",
       "      <td>12786.932230</td>\n",
       "      <td>13306.619210</td>\n",
       "      <td>15367.029200</td>\n",
       "      <td>17122.479860</td>\n",
       "      <td>18051.522540</td>\n",
       "      <td>20896.609240</td>\n",
       "      <td>21905.595140</td>\n",
       "      <td>25523.277100</td>\n",
       "    </tr>\n",
       "    <tr>\n",
       "      <th>Japan</th>\n",
       "      <td>3216.956347</td>\n",
       "      <td>4317.694365</td>\n",
       "      <td>6576.649461</td>\n",
       "      <td>9847.788607</td>\n",
       "      <td>14778.786360</td>\n",
       "      <td>16610.377010</td>\n",
       "      <td>19384.105710</td>\n",
       "      <td>22375.941890</td>\n",
       "      <td>26824.895110</td>\n",
       "      <td>28816.584990</td>\n",
       "      <td>28604.591900</td>\n",
       "      <td>31656.068060</td>\n",
       "    </tr>\n",
       "    <tr>\n",
       "      <th>Jordan</th>\n",
       "      <td>1546.907807</td>\n",
       "      <td>1886.080591</td>\n",
       "      <td>2348.009158</td>\n",
       "      <td>2741.796252</td>\n",
       "      <td>2110.856309</td>\n",
       "      <td>2852.351568</td>\n",
       "      <td>4161.415959</td>\n",
       "      <td>4448.679912</td>\n",
       "      <td>3431.593647</td>\n",
       "      <td>3645.379572</td>\n",
       "      <td>3844.917194</td>\n",
       "      <td>4519.461171</td>\n",
       "    </tr>\n",
       "    <tr>\n",
       "      <th>Korea Dem. Rep.</th>\n",
       "      <td>1088.277758</td>\n",
       "      <td>1571.134655</td>\n",
       "      <td>1621.693598</td>\n",
       "      <td>2143.540609</td>\n",
       "      <td>3701.621503</td>\n",
       "      <td>4106.301249</td>\n",
       "      <td>4106.525293</td>\n",
       "      <td>4106.492315</td>\n",
       "      <td>3726.063507</td>\n",
       "      <td>1690.756814</td>\n",
       "      <td>1646.758151</td>\n",
       "      <td>1593.065480</td>\n",
       "    </tr>\n",
       "    <tr>\n",
       "      <th>Korea Rep.</th>\n",
       "      <td>1030.592226</td>\n",
       "      <td>1487.593537</td>\n",
       "      <td>1536.344387</td>\n",
       "      <td>2029.228142</td>\n",
       "      <td>3030.876650</td>\n",
       "      <td>4657.221020</td>\n",
       "      <td>5622.942464</td>\n",
       "      <td>8533.088805</td>\n",
       "      <td>12104.278720</td>\n",
       "      <td>15993.527960</td>\n",
       "      <td>19233.988180</td>\n",
       "      <td>23348.139730</td>\n",
       "    </tr>\n",
       "    <tr>\n",
       "      <th>Kuwait</th>\n",
       "      <td>108382.352900</td>\n",
       "      <td>113523.132900</td>\n",
       "      <td>95458.111760</td>\n",
       "      <td>80894.883260</td>\n",
       "      <td>109347.867000</td>\n",
       "      <td>59265.477140</td>\n",
       "      <td>31354.035730</td>\n",
       "      <td>28118.429980</td>\n",
       "      <td>34932.919590</td>\n",
       "      <td>40300.619960</td>\n",
       "      <td>35110.105660</td>\n",
       "      <td>47306.989780</td>\n",
       "    </tr>\n",
       "    <tr>\n",
       "      <th>Lebanon</th>\n",
       "      <td>4834.804067</td>\n",
       "      <td>6089.786934</td>\n",
       "      <td>5714.560611</td>\n",
       "      <td>6006.983042</td>\n",
       "      <td>7486.384341</td>\n",
       "      <td>8659.696836</td>\n",
       "      <td>7640.519521</td>\n",
       "      <td>5377.091329</td>\n",
       "      <td>6890.806854</td>\n",
       "      <td>8754.963850</td>\n",
       "      <td>9313.938830</td>\n",
       "      <td>10461.058680</td>\n",
       "    </tr>\n",
       "    <tr>\n",
       "      <th>Malaysia</th>\n",
       "      <td>1831.132894</td>\n",
       "      <td>1810.066992</td>\n",
       "      <td>2036.884944</td>\n",
       "      <td>2277.742396</td>\n",
       "      <td>2849.094780</td>\n",
       "      <td>3827.921571</td>\n",
       "      <td>4920.355951</td>\n",
       "      <td>5249.802653</td>\n",
       "      <td>7277.912802</td>\n",
       "      <td>10132.909640</td>\n",
       "      <td>10206.977940</td>\n",
       "      <td>12451.655800</td>\n",
       "    </tr>\n",
       "    <tr>\n",
       "      <th>Mongolia</th>\n",
       "      <td>786.566857</td>\n",
       "      <td>912.662609</td>\n",
       "      <td>1056.353958</td>\n",
       "      <td>1226.041130</td>\n",
       "      <td>1421.741975</td>\n",
       "      <td>1647.511665</td>\n",
       "      <td>2000.603139</td>\n",
       "      <td>2338.008304</td>\n",
       "      <td>1785.402016</td>\n",
       "      <td>1902.252100</td>\n",
       "      <td>2140.739323</td>\n",
       "      <td>3095.772271</td>\n",
       "    </tr>\n",
       "    <tr>\n",
       "      <th>Myanmar</th>\n",
       "      <td>331.000000</td>\n",
       "      <td>350.000000</td>\n",
       "      <td>388.000000</td>\n",
       "      <td>349.000000</td>\n",
       "      <td>357.000000</td>\n",
       "      <td>371.000000</td>\n",
       "      <td>424.000000</td>\n",
       "      <td>385.000000</td>\n",
       "      <td>347.000000</td>\n",
       "      <td>415.000000</td>\n",
       "      <td>611.000000</td>\n",
       "      <td>944.000000</td>\n",
       "    </tr>\n",
       "    <tr>\n",
       "      <th>Nepal</th>\n",
       "      <td>545.865723</td>\n",
       "      <td>597.936356</td>\n",
       "      <td>652.396859</td>\n",
       "      <td>676.442225</td>\n",
       "      <td>674.788130</td>\n",
       "      <td>694.112440</td>\n",
       "      <td>718.373095</td>\n",
       "      <td>775.632450</td>\n",
       "      <td>897.740360</td>\n",
       "      <td>1010.892138</td>\n",
       "      <td>1057.206311</td>\n",
       "      <td>1091.359778</td>\n",
       "    </tr>\n",
       "    <tr>\n",
       "      <th>Oman</th>\n",
       "      <td>1828.230307</td>\n",
       "      <td>2242.746551</td>\n",
       "      <td>2924.638113</td>\n",
       "      <td>4720.942687</td>\n",
       "      <td>10618.038550</td>\n",
       "      <td>11848.343920</td>\n",
       "      <td>12954.791010</td>\n",
       "      <td>18115.223130</td>\n",
       "      <td>18616.706910</td>\n",
       "      <td>19702.055810</td>\n",
       "      <td>19774.836870</td>\n",
       "      <td>22316.192870</td>\n",
       "    </tr>\n",
       "    <tr>\n",
       "      <th>Pakistan</th>\n",
       "      <td>684.597144</td>\n",
       "      <td>747.083529</td>\n",
       "      <td>803.342742</td>\n",
       "      <td>942.408259</td>\n",
       "      <td>1049.938981</td>\n",
       "      <td>1175.921193</td>\n",
       "      <td>1443.429832</td>\n",
       "      <td>1704.686583</td>\n",
       "      <td>1971.829464</td>\n",
       "      <td>2049.350521</td>\n",
       "      <td>2092.712441</td>\n",
       "      <td>2605.947580</td>\n",
       "    </tr>\n",
       "    <tr>\n",
       "      <th>Philippines</th>\n",
       "      <td>1272.880995</td>\n",
       "      <td>1547.944844</td>\n",
       "      <td>1649.552153</td>\n",
       "      <td>1814.127430</td>\n",
       "      <td>1989.374070</td>\n",
       "      <td>2373.204287</td>\n",
       "      <td>2603.273765</td>\n",
       "      <td>2189.634995</td>\n",
       "      <td>2279.324017</td>\n",
       "      <td>2536.534925</td>\n",
       "      <td>2650.921068</td>\n",
       "      <td>3190.481016</td>\n",
       "    </tr>\n",
       "    <tr>\n",
       "      <th>Saudi Arabia</th>\n",
       "      <td>6459.554823</td>\n",
       "      <td>8157.591248</td>\n",
       "      <td>11626.419750</td>\n",
       "      <td>16903.048860</td>\n",
       "      <td>24837.428650</td>\n",
       "      <td>34167.762600</td>\n",
       "      <td>33693.175250</td>\n",
       "      <td>21198.261360</td>\n",
       "      <td>24841.617770</td>\n",
       "      <td>20586.690190</td>\n",
       "      <td>19014.541180</td>\n",
       "      <td>21654.831940</td>\n",
       "    </tr>\n",
       "    <tr>\n",
       "      <th>Singapore</th>\n",
       "      <td>2315.138227</td>\n",
       "      <td>2843.104409</td>\n",
       "      <td>3674.735572</td>\n",
       "      <td>4977.418540</td>\n",
       "      <td>8597.756202</td>\n",
       "      <td>11210.089480</td>\n",
       "      <td>15169.161120</td>\n",
       "      <td>18861.530810</td>\n",
       "      <td>24769.891200</td>\n",
       "      <td>33519.476600</td>\n",
       "      <td>36023.105400</td>\n",
       "      <td>47143.179640</td>\n",
       "    </tr>\n",
       "    <tr>\n",
       "      <th>Sri Lanka</th>\n",
       "      <td>1083.532030</td>\n",
       "      <td>1072.546602</td>\n",
       "      <td>1074.471960</td>\n",
       "      <td>1135.514326</td>\n",
       "      <td>1213.395530</td>\n",
       "      <td>1348.775651</td>\n",
       "      <td>1648.079789</td>\n",
       "      <td>1876.766827</td>\n",
       "      <td>2153.739222</td>\n",
       "      <td>2664.477257</td>\n",
       "      <td>3015.378833</td>\n",
       "      <td>3970.095407</td>\n",
       "    </tr>\n",
       "    <tr>\n",
       "      <th>Syria</th>\n",
       "      <td>1643.485354</td>\n",
       "      <td>2117.234893</td>\n",
       "      <td>2193.037133</td>\n",
       "      <td>1881.923632</td>\n",
       "      <td>2571.423014</td>\n",
       "      <td>3195.484582</td>\n",
       "      <td>3761.837715</td>\n",
       "      <td>3116.774285</td>\n",
       "      <td>3340.542768</td>\n",
       "      <td>4014.238972</td>\n",
       "      <td>4090.925331</td>\n",
       "      <td>4184.548089</td>\n",
       "    </tr>\n",
       "    <tr>\n",
       "      <th>Taiwan</th>\n",
       "      <td>1206.947913</td>\n",
       "      <td>1507.861290</td>\n",
       "      <td>1822.879028</td>\n",
       "      <td>2643.858681</td>\n",
       "      <td>4062.523897</td>\n",
       "      <td>5596.519826</td>\n",
       "      <td>7426.354774</td>\n",
       "      <td>11054.561750</td>\n",
       "      <td>15215.657900</td>\n",
       "      <td>20206.820980</td>\n",
       "      <td>23235.423290</td>\n",
       "      <td>28718.276840</td>\n",
       "    </tr>\n",
       "    <tr>\n",
       "      <th>Thailand</th>\n",
       "      <td>757.797418</td>\n",
       "      <td>793.577415</td>\n",
       "      <td>1002.199172</td>\n",
       "      <td>1295.460660</td>\n",
       "      <td>1524.358936</td>\n",
       "      <td>1961.224635</td>\n",
       "      <td>2393.219781</td>\n",
       "      <td>2982.653773</td>\n",
       "      <td>4616.896545</td>\n",
       "      <td>5852.625497</td>\n",
       "      <td>5913.187529</td>\n",
       "      <td>7458.396327</td>\n",
       "    </tr>\n",
       "    <tr>\n",
       "      <th>Vietnam</th>\n",
       "      <td>605.066492</td>\n",
       "      <td>676.285448</td>\n",
       "      <td>772.049160</td>\n",
       "      <td>637.123289</td>\n",
       "      <td>699.501644</td>\n",
       "      <td>713.537120</td>\n",
       "      <td>707.235786</td>\n",
       "      <td>820.799445</td>\n",
       "      <td>989.023149</td>\n",
       "      <td>1385.896769</td>\n",
       "      <td>1764.456677</td>\n",
       "      <td>2441.576404</td>\n",
       "    </tr>\n",
       "    <tr>\n",
       "      <th>West Bank and Gaza</th>\n",
       "      <td>1515.592329</td>\n",
       "      <td>1827.067742</td>\n",
       "      <td>2198.956312</td>\n",
       "      <td>2649.715007</td>\n",
       "      <td>3133.409277</td>\n",
       "      <td>3682.831494</td>\n",
       "      <td>4336.032082</td>\n",
       "      <td>5107.197384</td>\n",
       "      <td>6017.654756</td>\n",
       "      <td>7110.667619</td>\n",
       "      <td>4515.487575</td>\n",
       "      <td>3025.349798</td>\n",
       "    </tr>\n",
       "    <tr>\n",
       "      <th>Yemen Rep.</th>\n",
       "      <td>781.717576</td>\n",
       "      <td>804.830455</td>\n",
       "      <td>825.623201</td>\n",
       "      <td>862.442146</td>\n",
       "      <td>1265.047031</td>\n",
       "      <td>1829.765177</td>\n",
       "      <td>1977.557010</td>\n",
       "      <td>1971.741538</td>\n",
       "      <td>1879.496673</td>\n",
       "      <td>2117.484526</td>\n",
       "      <td>2234.820827</td>\n",
       "      <td>2280.769906</td>\n",
       "    </tr>\n",
       "  </tbody>\n",
       "</table>\n",
       "</div>"
      ],
      "text/plain": [
       "                    gdpPercap_1952  gdpPercap_1957  gdpPercap_1962  \\\n",
       "country                                                              \n",
       "Afghanistan             779.445314      820.853030      853.100710   \n",
       "Bahrain                9867.084765    11635.799450    12753.275140   \n",
       "Bangladesh              684.244172      661.637458      686.341554   \n",
       "Cambodia                368.469286      434.038336      496.913648   \n",
       "China                   400.448611      575.987001      487.674018   \n",
       "Hong Kong China        3054.421209     3629.076457     4692.648272   \n",
       "India                   546.565749      590.061996      658.347151   \n",
       "Indonesia               749.681655      858.900271      849.289770   \n",
       "Iran                   3035.326002     3290.257643     4187.329802   \n",
       "Iraq                   4129.766056     6229.333562     8341.737815   \n",
       "Israel                 4086.522128     5385.278451     7105.630706   \n",
       "Japan                  3216.956347     4317.694365     6576.649461   \n",
       "Jordan                 1546.907807     1886.080591     2348.009158   \n",
       "Korea Dem. Rep.        1088.277758     1571.134655     1621.693598   \n",
       "Korea Rep.             1030.592226     1487.593537     1536.344387   \n",
       "Kuwait               108382.352900   113523.132900    95458.111760   \n",
       "Lebanon                4834.804067     6089.786934     5714.560611   \n",
       "Malaysia               1831.132894     1810.066992     2036.884944   \n",
       "Mongolia                786.566857      912.662609     1056.353958   \n",
       "Myanmar                 331.000000      350.000000      388.000000   \n",
       "Nepal                   545.865723      597.936356      652.396859   \n",
       "Oman                   1828.230307     2242.746551     2924.638113   \n",
       "Pakistan                684.597144      747.083529      803.342742   \n",
       "Philippines            1272.880995     1547.944844     1649.552153   \n",
       "Saudi Arabia           6459.554823     8157.591248    11626.419750   \n",
       "Singapore              2315.138227     2843.104409     3674.735572   \n",
       "Sri Lanka              1083.532030     1072.546602     1074.471960   \n",
       "Syria                  1643.485354     2117.234893     2193.037133   \n",
       "Taiwan                 1206.947913     1507.861290     1822.879028   \n",
       "Thailand                757.797418      793.577415     1002.199172   \n",
       "Vietnam                 605.066492      676.285448      772.049160   \n",
       "West Bank and Gaza     1515.592329     1827.067742     2198.956312   \n",
       "Yemen Rep.              781.717576      804.830455      825.623201   \n",
       "\n",
       "                    gdpPercap_1967  gdpPercap_1972  gdpPercap_1977  \\\n",
       "country                                                              \n",
       "Afghanistan             836.197138      739.981106      786.113360   \n",
       "Bahrain               14804.672700    18268.658390    19340.101960   \n",
       "Bangladesh              721.186086      630.233627      659.877232   \n",
       "Cambodia                523.432314      421.624026      524.972183   \n",
       "China                   612.705693      676.900092      741.237470   \n",
       "Hong Kong China        6197.962814     8315.928145    11186.141250   \n",
       "India                   700.770611      724.032527      813.337323   \n",
       "Indonesia               762.431772     1111.107907     1382.702056   \n",
       "Iran                   5906.731805     9613.818607    11888.595080   \n",
       "Iraq                   8931.459811     9576.037596    14688.235070   \n",
       "Israel                 8393.741404    12786.932230    13306.619210   \n",
       "Japan                  9847.788607    14778.786360    16610.377010   \n",
       "Jordan                 2741.796252     2110.856309     2852.351568   \n",
       "Korea Dem. Rep.        2143.540609     3701.621503     4106.301249   \n",
       "Korea Rep.             2029.228142     3030.876650     4657.221020   \n",
       "Kuwait                80894.883260   109347.867000    59265.477140   \n",
       "Lebanon                6006.983042     7486.384341     8659.696836   \n",
       "Malaysia               2277.742396     2849.094780     3827.921571   \n",
       "Mongolia               1226.041130     1421.741975     1647.511665   \n",
       "Myanmar                 349.000000      357.000000      371.000000   \n",
       "Nepal                   676.442225      674.788130      694.112440   \n",
       "Oman                   4720.942687    10618.038550    11848.343920   \n",
       "Pakistan                942.408259     1049.938981     1175.921193   \n",
       "Philippines            1814.127430     1989.374070     2373.204287   \n",
       "Saudi Arabia          16903.048860    24837.428650    34167.762600   \n",
       "Singapore              4977.418540     8597.756202    11210.089480   \n",
       "Sri Lanka              1135.514326     1213.395530     1348.775651   \n",
       "Syria                  1881.923632     2571.423014     3195.484582   \n",
       "Taiwan                 2643.858681     4062.523897     5596.519826   \n",
       "Thailand               1295.460660     1524.358936     1961.224635   \n",
       "Vietnam                 637.123289      699.501644      713.537120   \n",
       "West Bank and Gaza     2649.715007     3133.409277     3682.831494   \n",
       "Yemen Rep.              862.442146     1265.047031     1829.765177   \n",
       "\n",
       "                    gdpPercap_1982  gdpPercap_1987  gdpPercap_1992  \\\n",
       "country                                                              \n",
       "Afghanistan             978.011439      852.395945      649.341395   \n",
       "Bahrain               19211.147310    18524.024060    19035.579170   \n",
       "Bangladesh              676.981866      751.979403      837.810164   \n",
       "Cambodia                624.475478      683.895573      682.303175   \n",
       "China                   962.421381     1378.904018     1655.784158   \n",
       "Hong Kong China       14560.530510    20038.472690    24757.603010   \n",
       "India                   855.723538      976.512676     1164.406809   \n",
       "Indonesia              1516.872988     1748.356961     2383.140898   \n",
       "Iran                   7608.334602     6642.881371     7235.653188   \n",
       "Iraq                  14517.907110    11643.572680     3745.640687   \n",
       "Israel                15367.029200    17122.479860    18051.522540   \n",
       "Japan                 19384.105710    22375.941890    26824.895110   \n",
       "Jordan                 4161.415959     4448.679912     3431.593647   \n",
       "Korea Dem. Rep.        4106.525293     4106.492315     3726.063507   \n",
       "Korea Rep.             5622.942464     8533.088805    12104.278720   \n",
       "Kuwait                31354.035730    28118.429980    34932.919590   \n",
       "Lebanon                7640.519521     5377.091329     6890.806854   \n",
       "Malaysia               4920.355951     5249.802653     7277.912802   \n",
       "Mongolia               2000.603139     2338.008304     1785.402016   \n",
       "Myanmar                 424.000000      385.000000      347.000000   \n",
       "Nepal                   718.373095      775.632450      897.740360   \n",
       "Oman                  12954.791010    18115.223130    18616.706910   \n",
       "Pakistan               1443.429832     1704.686583     1971.829464   \n",
       "Philippines            2603.273765     2189.634995     2279.324017   \n",
       "Saudi Arabia          33693.175250    21198.261360    24841.617770   \n",
       "Singapore             15169.161120    18861.530810    24769.891200   \n",
       "Sri Lanka              1648.079789     1876.766827     2153.739222   \n",
       "Syria                  3761.837715     3116.774285     3340.542768   \n",
       "Taiwan                 7426.354774    11054.561750    15215.657900   \n",
       "Thailand               2393.219781     2982.653773     4616.896545   \n",
       "Vietnam                 707.235786      820.799445      989.023149   \n",
       "West Bank and Gaza     4336.032082     5107.197384     6017.654756   \n",
       "Yemen Rep.             1977.557010     1971.741538     1879.496673   \n",
       "\n",
       "                    gdpPercap_1997  gdpPercap_2002  gdpPercap_2007  \n",
       "country                                                             \n",
       "Afghanistan             635.341351      726.734055      974.580338  \n",
       "Bahrain               20292.016790    23403.559270    29796.048340  \n",
       "Bangladesh              972.770035     1136.390430     1391.253792  \n",
       "Cambodia                734.285170      896.226015     1713.778686  \n",
       "China                  2289.234136     3119.280896     4959.114854  \n",
       "Hong Kong China       28377.632190    30209.015160    39724.978670  \n",
       "India                  1458.817442     1746.769454     2452.210407  \n",
       "Indonesia              3119.335603     2873.912870     3540.651564  \n",
       "Iran                   8263.590301     9240.761975    11605.714490  \n",
       "Iraq                   3076.239795     4390.717312     4471.061906  \n",
       "Israel                20896.609240    21905.595140    25523.277100  \n",
       "Japan                 28816.584990    28604.591900    31656.068060  \n",
       "Jordan                 3645.379572     3844.917194     4519.461171  \n",
       "Korea Dem. Rep.        1690.756814     1646.758151     1593.065480  \n",
       "Korea Rep.            15993.527960    19233.988180    23348.139730  \n",
       "Kuwait                40300.619960    35110.105660    47306.989780  \n",
       "Lebanon                8754.963850     9313.938830    10461.058680  \n",
       "Malaysia              10132.909640    10206.977940    12451.655800  \n",
       "Mongolia               1902.252100     2140.739323     3095.772271  \n",
       "Myanmar                 415.000000      611.000000      944.000000  \n",
       "Nepal                  1010.892138     1057.206311     1091.359778  \n",
       "Oman                  19702.055810    19774.836870    22316.192870  \n",
       "Pakistan               2049.350521     2092.712441     2605.947580  \n",
       "Philippines            2536.534925     2650.921068     3190.481016  \n",
       "Saudi Arabia          20586.690190    19014.541180    21654.831940  \n",
       "Singapore             33519.476600    36023.105400    47143.179640  \n",
       "Sri Lanka              2664.477257     3015.378833     3970.095407  \n",
       "Syria                  4014.238972     4090.925331     4184.548089  \n",
       "Taiwan                20206.820980    23235.423290    28718.276840  \n",
       "Thailand               5852.625497     5913.187529     7458.396327  \n",
       "Vietnam                1385.896769     1764.456677     2441.576404  \n",
       "West Bank and Gaza     7110.667619     4515.487575     3025.349798  \n",
       "Yemen Rep.             2117.484526     2234.820827     2280.769906  "
      ]
     },
     "execution_count": 27,
     "metadata": {},
     "output_type": "execute_result"
    }
   ],
   "source": [
    "data"
   ]
  },
  {
   "cell_type": "code",
   "execution_count": null,
   "id": "efe3dbc3-0b43-4378-9440-fa14f7c777ec",
   "metadata": {},
   "outputs": [],
   "source": []
  }
 ],
 "metadata": {
  "kernelspec": {
   "display_name": "Python 3",
   "language": "python",
   "name": "python3"
  },
  "language_info": {
   "codemirror_mode": {
    "name": "ipython",
    "version": 3
   },
   "file_extension": ".py",
   "mimetype": "text/x-python",
   "name": "python",
   "nbconvert_exporter": "python",
   "pygments_lexer": "ipython3",
   "version": "3.8.8"
  }
 },
 "nbformat": 4,
 "nbformat_minor": 5
}
